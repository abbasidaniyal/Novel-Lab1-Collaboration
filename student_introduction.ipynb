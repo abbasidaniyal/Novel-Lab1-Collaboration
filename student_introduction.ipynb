{
 "cells": [
  {
   "cell_type": "markdown",
   "id": "f4aa8cb4",
   "metadata": {},
   "source": [
    "# Welcome to Your First Jupyter Notebook!"
   ]
  },
  {
   "cell_type": "markdown",
   "id": "c1ea3dd0",
   "metadata": {},
   "source": [
    "## Section 1: Introduction to Variables\n",
    "\n",
    "In Python, variables are containers that store data. Let's start with some basic variables."
   ]
  },
  {
   "cell_type": "code",
   "execution_count": null,
   "id": "b2285b2f",
   "metadata": {},
   "outputs": [],
   "source": [
    "# This is a comment - it helps explain the code\n",
    "# Variables store information\n",
    "\n",
    "greeting = \"Hello, World!\"\n",
    "print(greeting)"
   ]
  },
  {
   "cell_type": "markdown",
   "id": "ecbcc8f1",
   "metadata": {},
   "source": [
    "## Section 2: Personal Information\n",
    "**YOUR TURN!** Update the following cell with your own information."
   ]
  },
  {
   "cell_type": "code",
   "execution_count": null,
   "id": "dbf1bd1e",
   "metadata": {},
   "outputs": [],
   "source": [
    "\n",
    "# TODO: Replace 'John Doe' with YOUR name\n",
    "student_name = \"John Doe\"\n",
    "\n",
    "# TODO: Replace with YOUR favorite programming language (or 'Python' if this is your first!)\n",
    "favorite_language = \"Python\"\n",
    "\n",
    "# TODO: Replace with YOUR favorite hobby\n",
    "favorite_hobby = \"Reading\"\n",
    "\n",
    "# TODO: Replace with the year you started learning to code\n",
    "year_started_coding = 2024\n",
    "\n",
    "# Don't change this part - it will display your information!\n",
    "print(f\"Hi! My name is {student_name}\")\n",
    "print(f\"My favorite programming language is {favorite_language}\")\n",
    "print(f\"In my free time, I enjoy {favorite_hobby}\")\n",
    "print(f\"I started my coding journey in {year_started_coding}\")"
   ]
  },
  {
   "cell_type": "markdown",
   "id": "ef441d2f",
   "metadata": {},
   "source": [
    "## Section 3: Basic Math Operations\n",
    "\n",
    "Python can do math! Let's try some basic operations."
   ]
  },
  {
   "cell_type": "code",
   "execution_count": null,
   "id": "edb9382b",
   "metadata": {},
   "outputs": [],
   "source": [
    "# Addition\n",
    "result_add = 10 + 5\n",
    "print(f\"10 + 5 = {result_add}\")\n",
    "\n",
    "# Subtraction\n",
    "result_sub = 20 - 8\n",
    "print(f\"20 - 8 = {result_sub}\")\n",
    "\n",
    "# Multiplication\n",
    "result_mult = 6 * 7\n",
    "print(f\"6 × 7 = {result_mult}\")\n",
    "\n",
    "# Division\n",
    "result_div = 100 / 4\n",
    "print(f\"100 ÷ 4 = {result_div}\")"
   ]
  },
  {
   "cell_type": "markdown",
   "id": "739c1e9a",
   "metadata": {},
   "source": [
    "## Section 4: Your First Calculation\n",
    "\n",
    "**YOUR TURN!** Create your own calculation below."
   ]
  },
  {
   "cell_type": "code",
   "execution_count": null,
   "id": "369b2c4c",
   "metadata": {},
   "outputs": [],
   "source": [
    "# TODO: Change these numbers to your birth month and day\n",
    "\n",
    "birth_month = 1  # Example: 1 for January, 2 for February, etc.\n",
    "birth_day = 1    # Example: 15 for the 15th day\n",
    "\n",
    "# TODO: Calculate how many days into the year you were born\n",
    "# Hint: Multiply birth_month by 30 (approximate) and add birth_day\n",
    "days_into_year = birth_month * 30 + birth_day\n",
    "\n",
    "print(f\"I was born approximately {days_into_year} days into the year!\")"
   ]
  },
  {
   "cell_type": "markdown",
   "id": "973cc5d3",
   "metadata": {},
   "source": [
    "## Congratulations!\n",
    "\n",
    "You've completed your first Jupyter notebook exercise!\n",
    "\n",
    "### Next Steps:\n",
    "\n",
    "1. Make sure you've filled in all the sections marked with YOUR TURN\n",
    "2. Run all cells to verify your code works\n",
    "3. Follow the collaboration instructions in the README to submit your work\n",
    "\n",
    "Keep learning and happy coding!"
   ]
  },
  {
   "cell_type": "markdown",
   "id": "2c41555e",
   "metadata": {},
   "source": []
  }
 ],
 "metadata": {
  "language_info": {
   "name": "python"
  }
 },
 "nbformat": 4,
 "nbformat_minor": 5
}
